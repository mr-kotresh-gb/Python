{
 "cells": [
  {
   "cell_type": "markdown",
   "id": "f1f6fbbd-7f3a-43f0-ba27-c1bd87ac86c5",
   "metadata": {},
   "source": [
    "Q1. Explain what inheritance is in object-oriented programming and why it is used.\n",
    "* In object-oriented programming, inheritance is a mechanism that allows one class to inherit the properties and behaviors of another class.\n",
    "* It is used to promote code reusability, extend and specialize existing classes, and create a hierarchy of classes with shared characteristics.\n",
    "* Inheritance facilitates the creation of new classes by building upon the attributes and behaviors of existing ones, promoting a more efficient and organized code structure."
   ]
  },
  {
   "cell_type": "markdown",
   "id": "daba7651-0e3d-45a9-9f48-69516d8dd45c",
   "metadata": {},
   "source": []
  },
  {
   "cell_type": "markdown",
   "id": "2fce9afd-eda1-472b-87f2-ff07dbd9e814",
   "metadata": {},
   "source": [
    "Q2. Discuss the concept of single inheritance and multiple inheritance, highlighting their differences and advantages.\n",
    "* Single Inheritance:\n",
    "    * Definition: Single inheritance is a feature in object-oriented programming where a class can inherit properties and behaviors from only one superclass (base class).\n",
    "    * Advantages: It simplifies the class hierarchy, making it easier to understand and maintain. It also helps avoid ambiguity in method or attribute resolution when there are conflicts between inherited members.\n",
    "\n",
    "* Multiple Inheritance:\n",
    "    * Definition: Multiple inheritance allows a class to inherit properties and behaviors from more than one superclass (base class). This means a class can have multiple parent classes.\n",
    "    * Advantages: It enables greater code reuse by allowing a class to inherit from multiple sources, promoting flexibility and extensibility. It can represent complex relationships and share functionality between unrelated classes.\n",
    "\n",
    "* Differences:\n",
    "    * Number of Superclasses: Single inheritance allows a class to inherit from only one superclass, while multiple inheritance permits inheritance from multiple superclasses.\n",
    "    * Ambiguity: In multiple inheritance, conflicts or ambiguities can arise when two or more superclasses provide methods or attributes with the same name. Resolving these conflicts is a challenge.\n",
    "    * Complexity: Multiple inheritance can result in more complex class hierarchies and potential issues like the \"diamond problem,\" where two base classes have a common ancestor, leading to confusion in method resolution."
   ]
  },
  {
   "cell_type": "markdown",
   "id": "4698bdb9-171f-4f93-b198-b2edf19b676b",
   "metadata": {},
   "source": []
  },
  {
   "cell_type": "markdown",
   "id": "116b8fe5-3256-4c51-833a-ff55d800f1ac",
   "metadata": {},
   "source": [
    "Q3. Explain the terms \"base class\" and \"derived class\" in the context of inheritance.\n",
    "* Base Class: Also known as a superclass or parent class, a base class is a class that provides properties and behaviors that can be inherited by other classes. It serves as a template for creating derived classes. Base classes define the common attributes and methods shared by multiple related classes.\n",
    "\n",
    "* Derived Class: Also known as a subclass or child class, a derived class is a class that inherits properties and behaviors from a base class. It extends or specializes the functionality of the base class by adding new attributes or methods or by overriding existing ones. Derived classes inherit the characteristics of the base class and can further customize or extend them to suit their specific needs."
   ]
  },
  {
   "cell_type": "markdown",
   "id": "207182ef-51da-409b-89a6-11fdd81b6f42",
   "metadata": {},
   "source": []
  },
  {
   "cell_type": "markdown",
   "id": "9df00645-601b-46bd-848c-15f9dbb3b3fe",
   "metadata": {},
   "source": [
    "Q4. What is the significance of the \"protected\" access modifier in inheritance? How does it differ from \"private\" and \"public\" modifiers?\n",
    "\n",
    "* In Python, the \"protected\" access modifier is denoted by a single underscore prefix before a class member (e.g., _variable or _method()). It has the following significance in inheritance:\n",
    "\n",
    "* Protected Access: Members marked as protected can be accessed within the class itself and within its subclasses (derived classes). It restricts access from outside the class hierarchy.\n",
    "\n",
    "* Differences from \"private\" and \"public\" modifiers:\n",
    "    * Private Access (private): Members marked as private are denoted by a double underscore prefix (e.g., __variable or __method()). They can only be accessed within the class that defines them. They are not accessible in derived classes.\n",
    "\n",
    "    * Public Access (public): Members without any prefix are considered public and can be accessed from anywhere, both within the class and from outside."
   ]
  },
  {
   "cell_type": "markdown",
   "id": "c3e1590e-3d8a-4719-953b-cd96c3673134",
   "metadata": {},
   "source": []
  },
  {
   "cell_type": "markdown",
   "id": "c78c8afe-83f8-478e-9efa-7c2dfdb7a503",
   "metadata": {},
   "source": [
    "Q5. What is the purpose of the \"super\" keyword in inheritance? Provide an example.\n",
    "* The \"super\" keyword in inheritance is used to call and invoke the superclass's (base class) methods and constructors from within a subclass (derived class). It allows you to access and utilize the functionality of the superclass while customizing or extending it in the derived class."
   ]
  },
  {
   "cell_type": "code",
   "execution_count": 1,
   "id": "77bf7b9b-bf0c-4ca9-b4f6-5e87edf49d06",
   "metadata": {},
   "outputs": [
    {
     "name": "stdout",
     "output_type": "stream",
     "text": [
      "Name: Vipul\n",
      "Breed: Golden Retriever\n",
      "Sound: Woof!\n"
     ]
    }
   ],
   "source": [
    "class Animal:\n",
    "    def __init__(self, name):\n",
    "        self.name = name\n",
    "\n",
    "    def speak(self):\n",
    "        pass\n",
    "\n",
    "class Dog(Animal):\n",
    "    def __init__(self, name, breed):\n",
    "        super().__init__(name) \n",
    "        self.breed = breed\n",
    "\n",
    "    def speak(self):\n",
    "        return \"Woof!\"\n",
    "\n",
    "    \n",
    "dog = Dog(\"Vipul\", \"Golden Retriever\")\n",
    "\n",
    "print(f\"Name: {dog.name}\")\n",
    "print(f\"Breed: {dog.breed}\")\n",
    "print(f\"Sound: {dog.speak()}\")"
   ]
  },
  {
   "cell_type": "markdown",
   "id": "c521586d-66c9-4ca9-be7c-4c7e86abe0d8",
   "metadata": {},
   "source": []
  },
  {
   "cell_type": "markdown",
   "id": "c95f9d17-8b31-4faf-b2cc-91f633b6d302",
   "metadata": {},
   "source": [
    "Q6. Create a base class called \"Vehicle\" with attributes like \"make\", \"model\", and \"year\". Then, create a derived class called \"Car\" that inherits from \"Vehicle\" and adds an attribute called \"fuel_type\". Implement appropriate methods in both classes."
   ]
  },
  {
   "cell_type": "code",
   "execution_count": 2,
   "id": "509ca7a4-ba57-4ce3-b38e-ccdbfe7fb58a",
   "metadata": {},
   "outputs": [
    {
     "name": "stdout",
     "output_type": "stream",
     "text": [
      "2022 Toyota Camry, Fuel Type: Gasoline\n",
      "2023 Tesla Model 3, Fuel Type: Electric\n"
     ]
    }
   ],
   "source": [
    "class Vehicle:\n",
    "    def __init__(self, make, model, year):\n",
    "        self.make = make\n",
    "        self.model = model\n",
    "        self.year = year\n",
    "\n",
    "    def get_info(self):\n",
    "        return f\"{self.year} {self.make} {self.model}\"\n",
    "\n",
    "class Car(Vehicle):\n",
    "    def __init__(self, make, model, year, fuel_type):\n",
    "        super().__init__(make, model, year) \n",
    "        self.fuel_type = fuel_type\n",
    "\n",
    "    def get_info(self):\n",
    "        return f\"{super().get_info()}, Fuel Type: {self.fuel_type}\"\n",
    "\n",
    "\n",
    "car1 = Car(\"Toyota\", \"Camry\", 2022, \"Gasoline\")\n",
    "car2 = Car(\"Tesla\", \"Model 3\", 2023, \"Electric\")\n",
    "\n",
    "\n",
    "print(car1.get_info()) \n",
    "print(car2.get_info()) "
   ]
  },
  {
   "cell_type": "markdown",
   "id": "92d5dd6e-8681-4c76-8fa8-64016072d214",
   "metadata": {},
   "source": []
  },
  {
   "cell_type": "markdown",
   "id": "af3a257c-4692-4c41-9386-ad7ccae81afe",
   "metadata": {},
   "source": [
    "Q7. Create a base class called \"Employee\" with attributes like \"name\" and \"salary.\" Derive two classes, \"Manager\" and \"Developer,\" from \"Employee.\" Add an additional attribute called \"department\" for the \"Manager\" class and \"programming_language\" for the \"Developer\" class."
   ]
  },
  {
   "cell_type": "code",
   "execution_count": 4,
   "id": "fe2a9d00-fe8a-4b01-93d0-91101e80f8dd",
   "metadata": {},
   "outputs": [
    {
     "name": "stdout",
     "output_type": "stream",
     "text": [
      "Name: Rajkumar, Salary: Rs.80000, Department: HR\n",
      "Name: Kotresh, Salary: Rs.50000, Programming Language: C++\n"
     ]
    }
   ],
   "source": [
    "class Employee:\n",
    "    def __init__(self, name, salary):\n",
    "        self.name = name\n",
    "        self.salary = salary\n",
    "\n",
    "    def display_info(self):\n",
    "        return f\"Name: {self.name}, Salary: Rs.{self.salary}\"\n",
    "\n",
    "class Manager(Employee):\n",
    "    def __init__(self, name, salary, department):\n",
    "        super().__init__(name, salary)\n",
    "        self.department = department\n",
    "\n",
    "    def display_info(self):\n",
    "        return f\"{super().display_info()}, Department: {self.department}\"\n",
    "\n",
    "class Developer(Employee):\n",
    "    def __init__(self, name, salary, programming_language):\n",
    "        super().__init__(name, salary)\n",
    "        self.programming_language = programming_language\n",
    "\n",
    "    def display_info(self):\n",
    "        return f\"{super().display_info()}, Programming Language: {self.programming_language}\"\n",
    "\n",
    "    \n",
    "manager = Manager(\"Rajkumar\", 80000, \"HR\")\n",
    "developer = Developer(\"Kotresh\", 50000, \"C++\")\n",
    "\n",
    "\n",
    "print(manager.display_info()) \n",
    "print(developer.display_info())\n"
   ]
  },
  {
   "cell_type": "markdown",
   "id": "9df52962-a116-4fde-9931-9533a2350f36",
   "metadata": {},
   "source": []
  },
  {
   "cell_type": "markdown",
   "id": "5a2ce2a7-bd84-411d-9648-8bb15ed09d98",
   "metadata": {},
   "source": [
    "Q8. Design a base class called \"Shape\" with attributes like \"colour\" and \"border_width.\" Create derived classes, \"Rectangle\" and \"Circle,\" that inherit from \"Shape\" and add specific attributes like \"length\" and \"width\" for the \"Rectangle\" class and \"radius\" for the \"Circle\" class."
   ]
  },
  {
   "cell_type": "code",
   "execution_count": 5,
   "id": "ada46f08-d00d-459a-81f1-cfdf26fcde9d",
   "metadata": {},
   "outputs": [
    {
     "name": "stdout",
     "output_type": "stream",
     "text": [
      "Color: Blue, Border Width: 2, Length: 10, Width: 5\n",
      "Color: Red, Border Width: 3, Radius: 7\n"
     ]
    }
   ],
   "source": [
    "class Shape:\n",
    "    def __init__(self, color, border_width):\n",
    "        self.color = color\n",
    "        self.border_width = border_width\n",
    "\n",
    "    def display_info(self):\n",
    "        return f\"Color: {self.color}, Border Width: {self.border_width}\"\n",
    "\n",
    "class Rectangle(Shape):\n",
    "    def __init__(self, color, border_width, length, width):\n",
    "        super().__init__(color, border_width)\n",
    "        self.length = length\n",
    "        self.width = width\n",
    "\n",
    "    def display_info(self):\n",
    "        return f\"{super().display_info()}, Length: {self.length}, Width: {self.width}\"\n",
    "\n",
    "class Circle(Shape):\n",
    "    def __init__(self, color, border_width, radius):\n",
    "        super().__init__(color, border_width)\n",
    "        self.radius = radius\n",
    "\n",
    "    def display_info(self):\n",
    "        return f\"{super().display_info()}, Radius: {self.radius}\"\n",
    "\n",
    "\n",
    "rectangle = Rectangle(\"Blue\", 2, 10, 5)\n",
    "circle = Circle(\"Red\", 3, 7)\n",
    "\n",
    "print(rectangle.display_info())\n",
    "print(circle.display_info())"
   ]
  },
  {
   "cell_type": "markdown",
   "id": "b1567e59-4c50-471a-b062-c645c072f62c",
   "metadata": {},
   "source": []
  },
  {
   "cell_type": "markdown",
   "id": "2e7bc927-f1f2-403d-b41b-5ab70599abf8",
   "metadata": {},
   "source": [
    "Q9. Create a base class called \"Device\" with attributes like \"brand\" and \"model.\" Derive two classes, \"Phone\" and \"Tablet,\" from \"Device.\" Add specific attributes like \"screen_size\" for the \"Phone\" class and \"battery_capacity\" for the \"Tablet\" class."
   ]
  },
  {
   "cell_type": "code",
   "execution_count": 6,
   "id": "57be6f36-504c-43aa-b363-e9c2de45b443",
   "metadata": {},
   "outputs": [
    {
     "name": "stdout",
     "output_type": "stream",
     "text": [
      "Brand: Apple, Model: iPhone 13, Screen Size: 6.1 inches\n",
      "Brand: Samsung, Model: Galaxy S7, Battery Capacity: 8000 mAh\n"
     ]
    }
   ],
   "source": [
    "class Device:\n",
    "    def __init__(self, brand, model):\n",
    "        self.brand = brand\n",
    "        self.model = model\n",
    "\n",
    "    def display_info(self):\n",
    "        return f\"Brand: {self.brand}, Model: {self.model}\"\n",
    "\n",
    "class Phone(Device):\n",
    "    def __init__(self, brand, model, screen_size):\n",
    "        super().__init__(brand, model)\n",
    "        self.screen_size = screen_size\n",
    "\n",
    "    def display_info(self):\n",
    "        return f\"{super().display_info()}, Screen Size: {self.screen_size}\"\n",
    "\n",
    "class Tablet(Device):\n",
    "    def __init__(self, brand, model, battery_capacity):\n",
    "        super().__init__(brand, model)\n",
    "        self.battery_capacity = battery_capacity\n",
    "\n",
    "    def display_info(self):\n",
    "        return f\"{super().display_info()}, Battery Capacity: {self.battery_capacity} mAh\"\n",
    "\n",
    "    \n",
    "phone = Phone(\"Apple\", \"iPhone 13\", \"6.1 inches\")\n",
    "tablet = Tablet(\"Samsung\", \"Galaxy S7\", 8000)\n",
    "\n",
    "print(phone.display_info())  \n",
    "print(tablet.display_info()) "
   ]
  },
  {
   "cell_type": "markdown",
   "id": "8d8aebf4-c328-44d9-9d88-82fef3efeb96",
   "metadata": {},
   "source": []
  },
  {
   "cell_type": "markdown",
   "id": "192fddac-024e-4173-be13-ad4a779fd43d",
   "metadata": {},
   "source": [
    "Q10. Create a base class called \"BankAccount\" with attributes like \"account_number\" and \"balance.\" Derive two classes, \"SavingsAccount\" and \"CheckingAccount,\" from \"BankAccount.\" Add specific methods like \"calculate_interest\" for the \"SavingsAccount\" class and \"deduct_fees\" for the \"CheckingAccount\" class."
   ]
  },
  {
   "cell_type": "code",
   "execution_count": 2,
   "id": "aeb29262-cf9e-416c-a3c9-9423d6901faa",
   "metadata": {},
   "outputs": [
    {
     "name": "stdout",
     "output_type": "stream",
     "text": [
      "Account Number: 12345, Balance: 5000.00, Interest Rate: 2.5%\n",
      "Account Number: 12345, Balance: 5125.00, Interest Rate: 2.5%\n",
      "Account Number: 67890, Balance: 3000.00, Monthly Fee: 10.00\n",
      "Account Number: 67890, Balance: 2990.00, Monthly Fee: 10.00\n"
     ]
    }
   ],
   "source": [
    "class BankAccount:\n",
    "    def __init__(self, account_number, balance):\n",
    "        self.account_number = account_number\n",
    "        self.balance = balance\n",
    "\n",
    "    def display_info(self):\n",
    "        return f\"Account Number: {self.account_number}, Balance: {self.balance:.2f}\"\n",
    "\n",
    "class SavingsAccount(BankAccount):\n",
    "    def __init__(self, account_number, balance, interest_rate):\n",
    "        super().__init__(account_number, balance)  # Call the base class constructor\n",
    "        self.interest_rate = interest_rate\n",
    "\n",
    "    def calculate_interest(self):\n",
    "        interest = self.balance * (self.interest_rate / 100)\n",
    "        self.balance += interest\n",
    "\n",
    "    def display_info(self):\n",
    "        return f\"{super().display_info()}, Interest Rate: {self.interest_rate}%\"\n",
    "\n",
    "class CheckingAccount(BankAccount):\n",
    "    def __init__(self, account_number, balance, monthly_fee):\n",
    "        super().__init__(account_number, balance)\n",
    "        self.monthly_fee = monthly_fee\n",
    "\n",
    "    def deduct_fees(self):\n",
    "        self.balance -= self.monthly_fee\n",
    "\n",
    "    def display_info(self):\n",
    "        return f\"{super().display_info()}, Monthly Fee: {self.monthly_fee:.2f}\"\n",
    "\n",
    "    \n",
    "savings_account = SavingsAccount(\"12345\", 5000, 2.5)\n",
    "checking_account = CheckingAccount(\"67890\", 3000, 10)\n",
    "\n",
    "\n",
    "print(savings_account.display_info())  \n",
    "savings_account.calculate_interest()\n",
    "print(savings_account.display_info())  \n",
    "\n",
    "print(checking_account.display_info())\n",
    "checking_account.deduct_fees()\n",
    "print(checking_account.display_info())  "
   ]
  },
  {
   "cell_type": "code",
   "execution_count": null,
   "id": "6207f5f4-24c8-42d1-b36f-5d912ac3c051",
   "metadata": {},
   "outputs": [],
   "source": []
  }
 ],
 "metadata": {
  "kernelspec": {
   "display_name": "Python 3 (ipykernel)",
   "language": "python",
   "name": "python3"
  },
  "language_info": {
   "codemirror_mode": {
    "name": "ipython",
    "version": 3
   },
   "file_extension": ".py",
   "mimetype": "text/x-python",
   "name": "python",
   "nbconvert_exporter": "python",
   "pygments_lexer": "ipython3",
   "version": "3.10.6"
  }
 },
 "nbformat": 4,
 "nbformat_minor": 5
}
