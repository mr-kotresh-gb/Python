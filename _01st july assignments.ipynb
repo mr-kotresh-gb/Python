{
 "cells": [
  {
   "cell_type": "markdown",
   "id": "8696670d-5055-405c-9cd9-e3e3dcaa0bae",
   "metadata": {},
   "source": [
    "Q1. What is the primary goal of Object-Oriented Programming (OOP)?\n",
    "* The primary goal of Object-Oriented Programming (OOP) is to model real-world entities and their interactions through the use of objects, which encapsulate data and behavior, promoting code organization, reusability."
   ]
  },
  {
   "cell_type": "markdown",
   "id": "2824c7c3-f617-45aa-95f6-9a762309e518",
   "metadata": {},
   "source": []
  },
  {
   "cell_type": "markdown",
   "id": "4757691a-fc70-491e-ba0a-e4c872ef5e3d",
   "metadata": {},
   "source": [
    "Q2. What is an object in Python?\n",
    "* In Python, an object is a fundamental concept representing a self-contained unit that combines data and the operations (methods) that can be performed on that data.\n",
    "* Objects are instances of classes, which serve as blueprints or templates for creating objects with specific properties and behaviors."
   ]
  },
  {
   "cell_type": "markdown",
   "id": "2484b03b-5e49-459b-b726-ae6395b4ce28",
   "metadata": {},
   "source": []
  },
  {
   "cell_type": "markdown",
   "id": "cfdc661e-36b4-458e-836e-4d732e8f00e3",
   "metadata": {},
   "source": [
    "Q3. What is a class in Python?\n",
    "* In Python, a class is a blueprint or a user-defined data type that defines the structure and behavior of objects. It serves as a template for creating objects with specific attributes (data) and methods (functions) that can operate on the data.\n",
    "* Classes encapsulate the common properties and behaviors shared by multiple objects, allowing for code reusability and organization in Object-Oriented Programming (OOP)."
   ]
  },
  {
   "cell_type": "markdown",
   "id": "4cd75197-7125-43e1-9325-c391fe294dba",
   "metadata": {},
   "source": []
  },
  {
   "cell_type": "markdown",
   "id": "82cc1adf-6ee9-4eef-8ac4-f68c86b373e9",
   "metadata": {},
   "source": [
    "Q4. What are attributes and methods in a class?\n",
    "* Attributes in a class are variables that store data associated with objects created from that class.\n",
    "* Methods in a class are functions that define the behavior or actions that objects created from that class can perform."
   ]
  },
  {
   "cell_type": "markdown",
   "id": "65a34533-0ddc-4a6f-8d09-c76509ed1bb3",
   "metadata": {},
   "source": []
  },
  {
   "cell_type": "markdown",
   "id": "9e599f06-95c3-40a8-b902-acd9778f8a59",
   "metadata": {},
   "source": [
    "Q5. What is the difference between class variables and instance variables in Python?\n",
    "* Class Variables:\n",
    "    * Class variables are shared among all instances of the class.\n",
    "    * They are defined within the class but outside of any instance methods.\n",
    "    * Class variables store data that is common to all instances of the class.\n",
    "    * Changes to class variables are reflected across all instances.\n",
    "\n",
    "* Instance Variables:\n",
    "    * Instance variables are specific to each instance of the class.\n",
    "    * They are defined within the class's methods, often within the constructor (_ _ init _ _ method).\n",
    "    * Instance variables store unique data for each individual instance.\n",
    "    * Changes to instance variables are isolated to the specific instance where they are modified."
   ]
  },
  {
   "cell_type": "markdown",
   "id": "5fccbd08-f06b-429d-b49f-70529e71ca65",
   "metadata": {},
   "source": []
  },
  {
   "cell_type": "markdown",
   "id": "432c8699-e103-4a85-b809-0eb98c9a3c7f",
   "metadata": {},
   "source": [
    "Q6. What is the purpose of the self parameter in Python class methods?\n",
    "* The self parameter in Python class methods refers to the instance of the class on which the method is being called. \n",
    "* It allows methods to access and manipulate the instance's attributes and methods within the class, enabling proper encapsulation of data and behavior."
   ]
  },
  {
   "cell_type": "markdown",
   "id": "23c84334-5a61-476e-a854-fbdd4f34a960",
   "metadata": {},
   "source": []
  },
  {
   "cell_type": "markdown",
   "id": "5ef71274-5570-4309-ad7e-36e7206b3e78",
   "metadata": {},
   "source": [
    "Q7. For a library management system, you have to design the \"Book\" class with OOP principles in mind. The “Book” class will have following attributes:\n",
    "1. title: Represents the title of the book.\n",
    "2. author: Represents the author(s) of the book.\n",
    "3. isbn: Represents the ISBN (International Standard Book Number) of the book.\n",
    "4. publication_year: Represents the year of publication of the book.\n",
    "5. available_copies: Represents the number of copies available for checkout.\n",
    "\n",
    "* The class will also include the following methods:\n",
    "1. check_out(self): Decrements the available copies by one if there are copies available for checkout.\n",
    "2. return_book(self): Increments the available copies by one when a book is returned.\n",
    "3. display_book_info(self): Displays the information about the book, including its attributes and the number of available copies."
   ]
  },
  {
   "cell_type": "code",
   "execution_count": 2,
   "id": "e910fac7-ed91-40b9-8c4c-198781787826",
   "metadata": {},
   "outputs": [
    {
     "name": "stdout",
     "output_type": "stream",
     "text": [
      "Book 'Data Science' checked out successfully.\n",
      "Book 'Data Science' returned successfully.\n",
      "Book 'Data Science' checked out successfully.\n",
      "Title: Data Science\n",
      "Author: Kotresh G B\n",
      "ISBN: 1234567890\n",
      "Publication Year: 2023\n",
      "Available Copies: 53\n"
     ]
    }
   ],
   "source": [
    "class Book:\n",
    "    def __init__(self, title, author, isbn, publication_year, available_copies):\n",
    "        self.title = title\n",
    "        self.author = author\n",
    "        self.isbn = isbn\n",
    "        self.publication_year = publication_year\n",
    "        self.available_copies = available_copies\n",
    "\n",
    "    def check_out(self):\n",
    "        if self.available_copies > 0:\n",
    "            self.available_copies -= 1\n",
    "            print(f\"Book '{self.title}' checked out successfully.\")\n",
    "        else:\n",
    "            print(f\"Book '{self.title}' is not available for checkout.\")\n",
    "\n",
    "    def return_book(self):\n",
    "        self.available_copies += 1\n",
    "        print(f\"Book '{self.title}' returned successfully.\")\n",
    "\n",
    "    def display_book_info(self):\n",
    "        print(f\"Title: {self.title}\")\n",
    "        print(f\"Author: {self.author}\")\n",
    "        print(f\"ISBN: {self.isbn}\")\n",
    "        print(f\"Publication Year: {self.publication_year}\")\n",
    "        print(f\"Available Copies: {self.available_copies}\")\n",
    "\n",
    "\n",
    "book1 = Book(\"Data Science\", \"Kotresh G B\", \"1234567890\", 2023, 54)\n",
    "book1.check_out()\n",
    "book1.return_book()\n",
    "book1.check_out()\n",
    "book1.display_book_info()"
   ]
  },
  {
   "cell_type": "markdown",
   "id": "45717716-3e0c-41f4-b16e-27fcba921856",
   "metadata": {},
   "source": []
  },
  {
   "cell_type": "markdown",
   "id": "b01e4a0e-94e7-4e75-9e78-abd2e222ebfb",
   "metadata": {},
   "source": [
    "Q8. For a ticket booking system, you have to design the \"Ticket\" class with OOP principles in mind. The “Ticket” class should have the following attributes:\n",
    "1. ticket_id: Represents the unique identifier for the ticket.\n",
    "2. event_name: Represents the name of the event.\n",
    "3. event_date: Represents the date of the event.\n",
    "4. venue: Represents the venue of the event.\n",
    "5. seat_number: Represents the seat number associated with the ticket.\n",
    "6. price: Represents the price of the ticket.\n",
    "7. is_reserved: Represents the reservation status of the ticket.\n",
    "\n",
    "* The class also includes the following methods:\n",
    "1. reserve_ticket(self): Marks the ticket as reserved if it is not already reserved.\n",
    "2. cancel_reservation(self): Cancels the reservation of the ticket if it is already reserved.\n",
    "3. display_ticket_info(self): Displays the information about the ticket, including its attributes and reservation status."
   ]
  },
  {
   "cell_type": "code",
   "execution_count": 3,
   "id": "7935cc2e-c553-4e3b-97fc-f07dbc3a8489",
   "metadata": {},
   "outputs": [
    {
     "name": "stdout",
     "output_type": "stream",
     "text": [
      "Ticket reserved successfully.\n",
      "Ticket ID: 69\n",
      "Event Name: Concert\n",
      "Event Date: 2023-09-15\n",
      "Venue: Music Hall\n",
      "Seat Number: A12\n",
      "Price: 50.0\n",
      "Reservation Status: Reserved\n",
      "Reservation canceled successfully.\n",
      "Ticket ID: 69\n",
      "Event Name: Concert\n",
      "Event Date: 2023-09-15\n",
      "Venue: Music Hall\n",
      "Seat Number: A12\n",
      "Price: 50.0\n",
      "Reservation Status: Not Reserved\n"
     ]
    }
   ],
   "source": [
    "class Ticket:\n",
    "    def __init__(self, ticket_id, event_name, event_date, venue, seat_number, price):\n",
    "        self.ticket_id = ticket_id\n",
    "        self.event_name = event_name\n",
    "        self.event_date = event_date\n",
    "        self.venue = venue\n",
    "        self.seat_number = seat_number\n",
    "        self.price = price\n",
    "        self.is_reserved = False\n",
    "\n",
    "    def reserve_ticket(self):\n",
    "        if not self.is_reserved:\n",
    "            self.is_reserved = True\n",
    "            print(\"Ticket reserved successfully.\")\n",
    "        else:\n",
    "            print(\"Ticket is already reserved.\")\n",
    "\n",
    "    def cancel_reservation(self):\n",
    "        if self.is_reserved:\n",
    "            self.is_reserved = False\n",
    "            print(\"Reservation canceled successfully.\")\n",
    "        else:\n",
    "            print(\"Ticket is not reserved.\")\n",
    "\n",
    "    def display_ticket_info(self):\n",
    "        print(f\"Ticket ID: {self.ticket_id}\")\n",
    "        print(f\"Event Name: {self.event_name}\")\n",
    "        print(f\"Event Date: {self.event_date}\")\n",
    "        print(f\"Venue: {self.venue}\")\n",
    "        print(f\"Seat Number: {self.seat_number}\")\n",
    "        print(f\"Price: {self.price}\")\n",
    "        print(f\"Reservation Status: {'Reserved' if self.is_reserved else 'Not Reserved'}\")\n",
    "\n",
    "\n",
    "\n",
    "ticket1 = Ticket(\"69\", \"Concert\", \"2023-09-15\", \"Music Hall\", \"A12\", 50.0)\n",
    "ticket1.reserve_ticket()\n",
    "ticket1.display_ticket_info()\n",
    "ticket1.cancel_reservation()\n",
    "ticket1.display_ticket_info()"
   ]
  },
  {
   "cell_type": "markdown",
   "id": "946995b4-a804-46a1-bb82-dffe75fd1cc6",
   "metadata": {},
   "source": []
  },
  {
   "cell_type": "markdown",
   "id": "4cfb1041-c44b-4926-8ed7-4fb1ff18ada2",
   "metadata": {},
   "source": [
    "Q9. You are creating a shopping cart for an e-commerce website. Using OOP to model the \"ShoppingCart\" functionality the class should contain following attributes and methods:\n",
    "1. items: Represents the list of items in the shopping cart. The class also includes the following methods:\n",
    "\n",
    "2. add_item(self, item): Adds an item to the shopping cart by appending it to the list of items.\n",
    "3. remove_item(self, item): Removes an item from the shopping cart if it exists in the list.\n",
    "4. view_cart(self): Displays the items currently present in the shopping cart.\n",
    "5. clear_cart(self): Clears all items from the shopping cart by reassigning an empty list to the items attribute."
   ]
  },
  {
   "cell_type": "code",
   "execution_count": 4,
   "id": "aa6848f9-ed51-4949-b66d-2a32913af472",
   "metadata": {},
   "outputs": [
    {
     "name": "stdout",
     "output_type": "stream",
     "text": [
      "Item 'Shirt' added to the cart.\n",
      "Item 'Jeans' added to the cart.\n",
      "Item 'Shoes' added to the cart.\n",
      "Items in the cart:\n",
      "Shirt\n",
      "Jeans\n",
      "Shoes\n",
      "Item 'Jeans' removed from the cart.\n",
      "Items in the cart:\n",
      "Shirt\n",
      "Shoes\n",
      "Cart cleared successfully.\n",
      "The cart is empty.\n"
     ]
    }
   ],
   "source": [
    "class ShoppingCart:\n",
    "    def __init__(self):\n",
    "        self.items = []\n",
    "\n",
    "    def add_item(self, item):\n",
    "        self.items.append(item)\n",
    "        print(f\"Item '{item}' added to the cart.\")\n",
    "\n",
    "    def remove_item(self, item):\n",
    "        if item in self.items:\n",
    "            self.items.remove(item)\n",
    "            print(f\"Item '{item}' removed from the cart.\")\n",
    "        else:\n",
    "            print(f\"Item '{item}' not found in the cart.\")\n",
    "\n",
    "    def view_cart(self):\n",
    "        if self.items:\n",
    "            print(\"Items in the cart:\")\n",
    "            for item in self.items:\n",
    "                print(item)\n",
    "        else:\n",
    "            print(\"The cart is empty.\")\n",
    "\n",
    "    def clear_cart(self):\n",
    "        self.items = []\n",
    "        print(\"Cart cleared successfully.\")\n",
    "\n",
    "\n",
    "cart = ShoppingCart()\n",
    "cart.add_item(\"Shirt\")\n",
    "cart.add_item(\"Jeans\")\n",
    "cart.add_item(\"Shoes\")\n",
    "cart.view_cart()\n",
    "cart.remove_item(\"Jeans\")\n",
    "cart.view_cart()\n",
    "cart.clear_cart()\n",
    "cart.view_cart()"
   ]
  },
  {
   "cell_type": "markdown",
   "id": "ea60a645-f65d-49f3-8b05-999a8ab411f9",
   "metadata": {},
   "source": []
  },
  {
   "cell_type": "markdown",
   "id": "d2184272-35d6-4084-9c55-c60ba6191125",
   "metadata": {},
   "source": [
    "Q10. Imagine a school management system. You have to design the \"Student\" class using OOP concepts.The “Student” class has the following attributes:\n",
    "1. name: Represents the name of the student.\n",
    "2. age: Represents the age of the student.\n",
    "3. grade: Represents the grade or class of the student.\n",
    "4. student_id: Represents the unique identifier for the student.\n",
    "5. attendance: Represents the attendance record of the student.\n",
    "\n",
    "* The class should also include the following methods:\n",
    "1. update_attendance(self, date, status): Updates the attendance record of the student for a given date with the provided status (e.g., present or absent).\n",
    "2. get_attendance(self): Returns the attendance record of the student.\n",
    "3. get_average_attendance(self): Calculates and returns the average attendance percentage of the student based on their attendance record."
   ]
  },
  {
   "cell_type": "code",
   "execution_count": 5,
   "id": "6d8de72f-2b20-4801-a1a7-d58748e8e305",
   "metadata": {},
   "outputs": [
    {
     "name": "stdout",
     "output_type": "stream",
     "text": [
      "Attendance for 2023-08-30 updated: present\n",
      "Attendance for 2023-08-31 updated: absent\n",
      "Attendance for 2023-09-01 updated: present\n",
      "Attendance Record:\n",
      "{'2023-08-30': 'present', '2023-08-31': 'absent', '2023-09-01': 'present'}\n",
      "Average Attendance: 66.67%\n"
     ]
    }
   ],
   "source": [
    "class Student:\n",
    "    def __init__(self, name, age, grade, student_id):\n",
    "        self.name = name\n",
    "        self.age = age\n",
    "        self.grade = grade\n",
    "        self.student_id = student_id\n",
    "        self.attendance = {}\n",
    "\n",
    "    def update_attendance(self, date, status):\n",
    "        self.attendance[date] = status\n",
    "        print(f\"Attendance for {date} updated: {status}\")\n",
    "\n",
    "    def get_attendance(self):\n",
    "        return self.attendance\n",
    "\n",
    "    def get_average_attendance(self):\n",
    "        if not self.attendance:\n",
    "            return 0.0\n",
    "        \n",
    "        total_days = len(self.attendance)\n",
    "        present_days = sum(1 for status in self.attendance.values() if status == \"present\")\n",
    "        average_attendance = (present_days / total_days) * 100\n",
    "        return average_attendance\n",
    "\n",
    "\n",
    "\n",
    "student1 = Student(\"Alice\", 15, \"10th\", \"S123\")\n",
    "student1.update_attendance(\"2023-08-30\", \"present\")\n",
    "student1.update_attendance(\"2023-08-31\", \"absent\")\n",
    "student1.update_attendance(\"2023-09-01\", \"present\")\n",
    "\n",
    "print(\"Attendance Record:\")\n",
    "print(student1.get_attendance())\n",
    "\n",
    "average_attendance = student1.get_average_attendance()\n",
    "print(f\"Average Attendance: {average_attendance:.2f}%\")"
   ]
  },
  {
   "cell_type": "code",
   "execution_count": null,
   "id": "f3ac3adb-b0b3-4eed-9182-09b9d88eb240",
   "metadata": {},
   "outputs": [],
   "source": []
  }
 ],
 "metadata": {
  "kernelspec": {
   "display_name": "Python 3 (ipykernel)",
   "language": "python",
   "name": "python3"
  },
  "language_info": {
   "codemirror_mode": {
    "name": "ipython",
    "version": 3
   },
   "file_extension": ".py",
   "mimetype": "text/x-python",
   "name": "python",
   "nbconvert_exporter": "python",
   "pygments_lexer": "ipython3",
   "version": "3.10.6"
  }
 },
 "nbformat": 4,
 "nbformat_minor": 5
}
